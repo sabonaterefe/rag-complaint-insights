{
 "cells": [
  {
   "cell_type": "code",
   "execution_count": 2,
   "id": "0929a8c8-50d3-4ce9-9fa2-cfe6315cd8f2",
   "metadata": {},
   "outputs": [
    {
     "name": "stdout",
     "output_type": "stream",
     "text": [
      "\n",
      "🔎 Match 1:\n",
      "charges that went on to be reported as missed payments for xxxxxxxx xxxxxxxx xxxxxxxx xxxxxxxx xxxxxxxx xxxxxxxx the company only provided my personal information and stated that i was responsible\n",
      "📎 Metadata: {'Complaint ID': 13961330, 'Product': 'Credit card', 'Company': 'FIRST PORTFOLIO SERVICING INC'}\n",
      "\n",
      "🔎 Match 2:\n",
      "did not remove the outrageous interest charges to my account totaling 60 more than the original cost that i would take further action i feel violated and robbed and i know theyre aware of the\n",
      "📎 Metadata: {'Company': 'Atlanticus Services Corporation', 'Complaint ID': 13993418, 'Product': 'Credit card'}\n",
      "\n",
      "🔎 Match 3:\n",
      "to the company who had me on hold for xxxx hours before telling me i would receive a refund before pivoting and refusing to explain why i was charged interest and simply telling me the charge is\n",
      "📎 Metadata: {'Company': 'CITIBANK, N.A.', 'Complaint ID': 13935857, 'Product': 'Credit card'}\n",
      "\n",
      "🔎 Match 4:\n",
      "i finally answered i was told that i owed 29000 to a financing company called xxxx whom opened a retail credit card charged to 400000 for the equipment i was told was free i did not want another line\n",
      "📎 Metadata: {'Product': 'Credit card', 'Company': 'Atlanticus Services Corporation', 'Complaint ID': 14012984}\n",
      "\n",
      "🔎 Match 5:\n",
      "applied and received credit it card on xxxxyear for 0 card for 18 months i paid the fees when i got my statement there was charged they will not provide me with my application or fix the mistake\n",
      "📎 Metadata: {'Complaint ID': 13614924, 'Product': 'Credit card', 'Company': 'U.S. BANCORP'}\n"
     ]
    }
   ],
   "source": [
    "from sentence_transformers import SentenceTransformer\n",
    "from chromadb import PersistentClient\n",
    "\n",
    "# Load index\n",
    "client = PersistentClient(path=\"../vector_store/chroma_index\")\n",
    "collection = client.get_or_create_collection(name=\"complaints\")\n",
    "\n",
    "# Embed query\n",
    "model = SentenceTransformer(\"all-MiniLM-L6-v2\")\n",
    "query = \"I was charged for a loan I never took\"\n",
    "embedding = model.encode([query])[0]\n",
    "\n",
    "# Search\n",
    "results = collection.query(\n",
    "    query_embeddings=[embedding.tolist()],\n",
    "    n_results=5\n",
    ")\n",
    "\n",
    "# Display\n",
    "for i, doc in enumerate(results[\"documents\"][0]):\n",
    "    print(f\"\\n🔎 Match {i+1}:\")\n",
    "    print(doc)\n",
    "    print(\"📎 Metadata:\", results[\"metadatas\"][0][i])\n"
   ]
  },
  {
   "cell_type": "code",
   "execution_count": null,
   "id": "6051b0c7-6cb1-46dd-b11d-b169c641685c",
   "metadata": {},
   "outputs": [],
   "source": []
  }
 ],
 "metadata": {
  "kernelspec": {
   "display_name": "Python 3 (ipykernel)",
   "language": "python",
   "name": "python3"
  },
  "language_info": {
   "codemirror_mode": {
    "name": "ipython",
    "version": 3
   },
   "file_extension": ".py",
   "mimetype": "text/x-python",
   "name": "python",
   "nbconvert_exporter": "python",
   "pygments_lexer": "ipython3",
   "version": "3.11.0"
  }
 },
 "nbformat": 4,
 "nbformat_minor": 5
}
